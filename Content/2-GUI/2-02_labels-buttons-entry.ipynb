{
 "cells": [
  {
   "cell_type": "code",
   "execution_count": 1,
   "metadata": {},
   "outputs": [],
   "source": [
    "import tkinter as tk"
   ]
  },
  {
   "cell_type": "markdown",
   "metadata": {},
   "source": [
    "# Configuraciones para Label, Button y Entry"
   ]
  },
  {
   "cell_type": "markdown",
   "metadata": {},
   "source": [
    "> __IMPORTANTE:__ Cerrar la ventana actual ANTES de ejecutar otra celda."
   ]
  },
  {
   "cell_type": "markdown",
   "metadata": {},
   "source": [
    "## Posición"
   ]
  },
  {
   "cell_type": "markdown",
   "metadata": {},
   "source": [
    "### _.pack()_"
   ]
  },
  {
   "cell_type": "markdown",
   "metadata": {},
   "source": [
    "Características:\n",
    "- Simple y rápido: Fácil de usar para diseños sencillos.\n",
    "- Alineación: Puedes especificar la alineación (side) de los widgets (top, bottom, left, right).\n",
    "- Espaciado: Puedes ajustar el relleno interno (padx, pady) y externo (ipadx, ipady).\n",
    "- Expansión: Los widgets pueden expandirse para llenar el espacio disponible (expand, fill)."
   ]
  },
  {
   "cell_type": "code",
   "execution_count": 3,
   "metadata": {},
   "outputs": [],
   "source": [
    "root = tk.Tk()\n",
    "root.title(\"Ejemplo\")\n",
    "root.geometry(\"500x300\") # Indica el tamaño de la ventana\n",
    "\n",
    "texto1 = tk.Label(root,text=\"HolaMundo\")\n",
    "texto1.pack(side=tk.LEFT, fill=tk.X)\n",
    "\n",
    "texto2 = tk.Label(root,text=\"AdiosMundo\")\n",
    "texto2.pack()\n",
    "\n",
    "root.mainloop()"
   ]
  },
  {
   "cell_type": "markdown",
   "metadata": {},
   "source": [
    "### _.grid()_"
   ]
  },
  {
   "cell_type": "markdown",
   "metadata": {},
   "source": [
    "Características:\n",
    "- Control preciso: Permite un control más preciso sobre la colocación de widgets en una estructura de rejilla.\n",
    "- Filas y columnas: Puedes especificar la fila (row) y la columna (column) donde se colocará cada widget.\n",
    "- Espaciado y expansión: Puedes ajustar el relleno (padx, pady) y la expansión (sticky) en diferentes direcciones (N, S, E, W)."
   ]
  },
  {
   "cell_type": "code",
   "execution_count": 7,
   "metadata": {},
   "outputs": [],
   "source": [
    "root = tk.Tk()\n",
    "root.title(\"Ejemplo\")\n",
    "root.geometry(\"500x300\") # Indica el tamaño de la ventana\n",
    "\n",
    "texto1 = tk.Label(root,text=\"HolaMundo\")\n",
    "texto1.grid(row=0,column=0)\n",
    "\n",
    "texto2 = tk.Label(root,text=\"AdiosMundo\")\n",
    "texto2.grid(row=1,column=1)\n",
    "\n",
    "root.mainloop()"
   ]
  },
  {
   "cell_type": "markdown",
   "metadata": {},
   "source": [
    "### _.place()_"
   ]
  },
  {
   "cell_type": "markdown",
   "metadata": {},
   "source": [
    "Características:\n",
    "- Las coordenadas indicadas en _.place()_ son las del punto superior izquierdo del widget.\n",
    "- Posicionamiento exacto: Permite un posicionamiento exacto de widgets utilizando coordenadas específicas.\n",
    "- Tamaño fijo: Puedes especificar el tamaño exacto del widget (width, height).\n",
    "- Relativo: Puede usar coordenadas relativas (relx, rely) para posicionar widgets en función del tamaño del contenedor."
   ]
  },
  {
   "cell_type": "code",
   "execution_count": 3,
   "metadata": {},
   "outputs": [],
   "source": [
    "root = tk.Tk()\n",
    "root.title(\"Ejemplo\")\n",
    "root.geometry(\"500x300\") # Indica el tamaño de la ventana\n",
    "\n",
    "texto1 = tk.Label(root,text=\"HolaMundo\")\n",
    "texto1.place(x=230,y=100)\n",
    "\n",
    "texto2 = tk.Label(root,text=\"AdiosMundo\")\n",
    "texto2.place(x=260,y=200)\n",
    "\n",
    "root.mainloop()"
   ]
  },
  {
   "cell_type": "markdown",
   "metadata": {},
   "source": [
    "## Atributos"
   ]
  },
  {
   "cell_type": "code",
   "execution_count": 21,
   "metadata": {},
   "outputs": [],
   "source": [
    "root = tk.Tk()\n",
    "root.title(\"Ejemplo\")\n",
    "root.geometry(\"500x300\") \n",
    "\n",
    "etiqueta = tk.Label(root,                       # Ventana dónde estara la etiqueta\n",
    "                  text=\"Label\",                 # Texto \n",
    "                  bg=\"#353a79\",                 # Color de fondo de la etiqueta\n",
    "                  fg=\"#39cd2f\",                 # Color del texto\n",
    "                  font=(\"Times New Roman\",20))  # Fuente y tamaño del texto\n",
    "etiqueta.place(x=100,y=50)\n",
    "\n",
    "boton = tk.Button(root,                       \n",
    "                  text=\"Button\",               \n",
    "                  bg=\"#353a79\",            \n",
    "                  fg=\"#39cd2f\",                 \n",
    "                  font=(\"Times New Roman\",20)) \n",
    "boton.place(x=100,y=100)\n",
    "\n",
    "entrada = tk.Entry(root,  \n",
    "                  bg=\"#353a79\",  \n",
    "                  fg=\"#39cd2f\",           \n",
    "                  font=(\"Times New Roman\",20)) \n",
    "entrada.place(x=100,y=170)\n",
    "\n",
    "root.mainloop()"
   ]
  },
  {
   "cell_type": "markdown",
   "metadata": {},
   "source": [
    "# Escribir contraseñas - uso de _show_"
   ]
  },
  {
   "cell_type": "markdown",
   "metadata": {},
   "source": [
    "> __IMPORTANTE:__ Cerrar la ventana actual ANTES de ejecutar otra celda."
   ]
  },
  {
   "cell_type": "markdown",
   "metadata": {},
   "source": [
    "__show__ enmascara el texto indicado mostrando un caracter elegido en lugar de los verdaderos caracteres. Si show se iguala a nada (show(\"\")) no tendrá valor y se mostrará el texto como es."
   ]
  },
  {
   "cell_type": "code",
   "execution_count": 3,
   "metadata": {},
   "outputs": [],
   "source": [
    "global aux # Variable global\n",
    "aux = False # Valor de inicio\n",
    "\n",
    "def leerEntrada():\n",
    "    texto = entrada.get() # Obtiene la información (texto) de la casilla entrada\n",
    "    ltexto.config(text=texto)\n",
    "\n",
    "def cambiar():\n",
    "    global aux \n",
    "    if (aux):\n",
    "        entrada.config(show=\"*\")\n",
    "        bcambiar.config(text=\"Mostrar\") # Cambia/actualiza el texto de la etiqueta\n",
    "        aux = False\n",
    "    else:\n",
    "        entrada.config(show=\"\")\n",
    "        bcambiar.config(text=\"Ocultar\")\n",
    "        aux = True\n",
    "\n",
    "root = tk.Tk()\n",
    "root.geometry(\"700x500\")\n",
    "\n",
    "entrada = tk.Entry(root)\n",
    "entrada.place(x=320,y=200)\n",
    "\n",
    "ltexto = tk.Label(root,text=\"\")\n",
    "ltexto.place(x=320,y=100)\n",
    "\n",
    "bleer = tk.Button(root,\n",
    "                  text=\"Leer\",\n",
    "                  command=leerEntrada) # command agrega una función al botón. Esta se ejecutara cuando se presione\n",
    "bleer.place(x=350,y=50)\n",
    "\n",
    "bcambiar = tk.Button(root,\n",
    "                     text=\"Mostrar\",\n",
    "                     command=cambiar)\n",
    "bcambiar.place(x=470,y=300)\n",
    "\n",
    "root.mainloop()"
   ]
  },
  {
   "cell_type": "markdown",
   "metadata": {},
   "source": [
    "# Mover y eliminar una etiqueta y un botón"
   ]
  },
  {
   "cell_type": "markdown",
   "metadata": {},
   "source": [
    "> __IMPORTANTE:__ Cerrar la ventana actual ANTES de ejecutar otra celda."
   ]
  },
  {
   "cell_type": "code",
   "execution_count": 4,
   "metadata": {},
   "outputs": [],
   "source": [
    "from random import randint"
   ]
  },
  {
   "cell_type": "code",
   "execution_count": 7,
   "metadata": {},
   "outputs": [],
   "source": [
    "# Selecciona valores al azar para las coordenadas de la etiqueta\n",
    "def mover():\n",
    "    x1=randint(0,450)\n",
    "    y1=randint(0,250)\n",
    "    texto2.place(x=x1,y=y1)\n",
    "    x2=randint(0,450)\n",
    "    y2=randint(0,250)\n",
    "    boton.place(x=x2,y=y2)\n",
    "\n",
    "def eliminar():\n",
    "    texto2.destroy() # Destruye la etiqueta/boton dentro de la ventana\n",
    "    boton.destroy()\n",
    "\n",
    "\n",
    "root = tk.Tk()\n",
    "root.title(\"Ejemplo\")\n",
    "root.geometry(\"500x300\")\n",
    "\n",
    "texto = tk.Label(root,text=\"HolaMundo\").place(x=250,y=100)\n",
    "\n",
    "texto2 = tk.Label(root,text=\"AdiosMundo\",bg=\"#353a79\",fg=\"#39cd2f\",width=10)\n",
    "texto2.place(x=250,y=250)\n",
    "texto2.config(font=(\"Times New Roman\", 20))\n",
    "\n",
    "boton=tk.Button(root,text=\"Mover\",command=mover)\n",
    "boton.place(x=400,y=140)\n",
    "\n",
    "bcerrar = tk.Button(root,text=\"Eliminar\",bg=\"#ff0000\",fg=\"#ffffff\",command=eliminar)\n",
    "bcerrar.place(x=400,y=260)\n",
    "\n",
    "root.mainloop()"
   ]
  },
  {
   "cell_type": "markdown",
   "metadata": {},
   "source": [
    "# Ocultar texto"
   ]
  },
  {
   "cell_type": "code",
   "execution_count": 12,
   "metadata": {},
   "outputs": [
    {
     "name": "stdout",
     "output_type": "stream",
     "text": [
      "Arial 20\n"
     ]
    }
   ],
   "source": [
    "def quitarTexto():\n",
    "    texto2.place_forget() # Oculta un widget posicionado con .place()\n",
    "\n",
    "def Cerrar():\n",
    "    texto2.destroy() # Destruye el widget\n",
    "\n",
    "\n",
    "root = tk.Tk()\n",
    "root.title(\"Ejemplo\")\n",
    "root.geometry(\"500x300\")\n",
    "\n",
    "\n",
    "texto2 = tk.Label(root,\n",
    "                  text=\"AdiosMundo\",\n",
    "                  bg=\"#353a79\",\n",
    "                  fg=\"#39cd2f\")\n",
    "texto2.place(x=200,y=100)\n",
    "texto2.config(font=(\"Arial\", 20))\n",
    "\n",
    "print(texto2.cget(\"font\")) # Extrae el nombre y tamaño de la fuente usado en texto2 y lo imprime\n",
    "\n",
    "boton=tk.Button(root,\n",
    "                text=\"Quitar\",\n",
    "                command=quitarTexto)\n",
    "boton.place(x=10,y=270)\n",
    "\n",
    "bcerrar = tk.Button(root,\n",
    "                    text=\"Cerrar\",\n",
    "                    bg=\"#ff0000\",\n",
    "                    fg=\"#ffffff\",\n",
    "                    command=Cerrar)\n",
    "bcerrar.place(x=450,y=270)\n",
    "\n",
    "root.mainloop()"
   ]
  }
 ],
 "metadata": {
  "kernelspec": {
   "display_name": "computer-vision",
   "language": "python",
   "name": "python3"
  },
  "language_info": {
   "codemirror_mode": {
    "name": "ipython",
    "version": 3
   },
   "file_extension": ".py",
   "mimetype": "text/x-python",
   "name": "python",
   "nbconvert_exporter": "python",
   "pygments_lexer": "ipython3",
   "version": "3.12.2"
  }
 },
 "nbformat": 4,
 "nbformat_minor": 2
}
