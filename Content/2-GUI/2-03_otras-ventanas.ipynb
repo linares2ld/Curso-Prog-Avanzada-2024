{
 "cells": [
  {
   "cell_type": "code",
   "execution_count": 1,
   "metadata": {},
   "outputs": [],
   "source": [
    "import tkinter as tk"
   ]
  },
  {
   "cell_type": "markdown",
   "metadata": {},
   "source": [
    "# Ventanas emergentes - Message Box"
   ]
  },
  {
   "cell_type": "code",
   "execution_count": 2,
   "metadata": {},
   "outputs": [],
   "source": [
    "from tkinter import messagebox as mb"
   ]
  },
  {
   "cell_type": "markdown",
   "metadata": {},
   "source": [
    "> __IMPORTANTE:__ Cerrar la ventana actual ANTES de ejecutar otra celda."
   ]
  },
  {
   "cell_type": "markdown",
   "metadata": {},
   "source": [
    "## Ventanas de información"
   ]
  },
  {
   "cell_type": "code",
   "execution_count": 4,
   "metadata": {},
   "outputs": [],
   "source": [
    "# Ventana de información\n",
    "\n",
    "root=tk.Tk()\n",
    "mb.showinfo(title=\"Info\",message=\"Se ha conectado un dispositivo.\")\n",
    "root.mainloop()"
   ]
  },
  {
   "cell_type": "code",
   "execution_count": 5,
   "metadata": {},
   "outputs": [],
   "source": [
    "# Ventana de advertencia\n",
    "\n",
    "root=tk.Tk()\n",
    "mb.showwarning(title=\"Advertencia\",message=\"Se ha perdido la conexión.\")\n",
    "root.mainloop()"
   ]
  },
  {
   "cell_type": "code",
   "execution_count": 6,
   "metadata": {},
   "outputs": [],
   "source": [
    "# Ventana de error\n",
    "\n",
    "root=tk.Tk()\n",
    "mb.showerror(title=\"Error\",message=\"No hay ningún dispositivo conectado.\")\n",
    "root.mainloop()"
   ]
  },
  {
   "cell_type": "markdown",
   "metadata": {},
   "source": [
    "## Cuadros de preguntas"
   ]
  },
  {
   "cell_type": "code",
   "execution_count": 15,
   "metadata": {},
   "outputs": [
    {
     "name": "stdout",
     "output_type": "stream",
     "text": [
      "yes\n"
     ]
    }
   ],
   "source": [
    "# Primer tipo de pregunta\n",
    "# - Regresa \"yes\" o \"no\"\n",
    "# - El texto de los botones es \"Sí\" y \"No\"\n",
    "\n",
    "root = tk.Tk()\n",
    "aux = mb.askquestion(title=\"Confirmar\", message=\"¿Desea confirmar la acción?\")\n",
    "print(aux)\n",
    "root.mainloop()"
   ]
  },
  {
   "cell_type": "code",
   "execution_count": 16,
   "metadata": {},
   "outputs": [
    {
     "name": "stdout",
     "output_type": "stream",
     "text": [
      "True\n"
     ]
    }
   ],
   "source": [
    "# Segundo tipo de pregunta\n",
    "# - Regresa True o False\n",
    "# - El texto de los botones es \"Sí\" y \"No\"\n",
    "\n",
    "root = tk.Tk()\n",
    "aux = mb.askyesno(title=\"Confirmar\", message=\"¿Desea confirmar la acción?\")\n",
    "print(aux)\n",
    "root.mainloop()"
   ]
  },
  {
   "cell_type": "code",
   "execution_count": 13,
   "metadata": {},
   "outputs": [
    {
     "name": "stdout",
     "output_type": "stream",
     "text": [
      "True\n"
     ]
    }
   ],
   "source": [
    "# Tercer tipo de pregunta\n",
    "# - Regresa True o False\n",
    "# - El texto de los botones es \"Aceptar\" y \"Cancelar\"\n",
    "\n",
    "root = tk.Tk()\n",
    "aux = mb.askokcancel(title=\"Confirmar\", message=\"¿Desea confirmar la acción?\") \n",
    "print(aux)\n",
    "root.mainloop()"
   ]
  },
  {
   "cell_type": "code",
   "execution_count": 18,
   "metadata": {},
   "outputs": [
    {
     "name": "stdout",
     "output_type": "stream",
     "text": [
      "True\n"
     ]
    }
   ],
   "source": [
    "# Cuarto tipo de pregunta\n",
    "# - Regresa True o False\n",
    "# - El texto de los botones es \"Reintentar\" y \"Cancelar\"\n",
    "\n",
    "root = tk.Tk()\n",
    "aux = mb.askretrycancel(title=\"Error\", message=\"No se pudo realizar la acción\")\n",
    "print(aux)\n",
    "root.mainloop()"
   ]
  },
  {
   "cell_type": "code",
   "execution_count": 22,
   "metadata": {},
   "outputs": [
    {
     "name": "stdout",
     "output_type": "stream",
     "text": [
      "None\n"
     ]
    }
   ],
   "source": [
    "# Quinto tipo de pregunta\n",
    "# - Regresa True, False o None\n",
    "# - El texto de los botones es \"Sí\", \"No\" y \"Cancelar\"\n",
    "\n",
    "root = tk.Tk()\n",
    "aux = mb.askyesnocancel(title=\"Confirmar\", message=\"¿Desea confirmar la acción?\")\n",
    "print(aux)\n",
    "root.mainloop()"
   ]
  },
  {
   "cell_type": "markdown",
   "metadata": {},
   "source": [
    "# Subventanas"
   ]
  },
  {
   "cell_type": "markdown",
   "metadata": {},
   "source": [
    "> __IMPORTANTE:__ Cerrar la ventana actual ANTES de ejecutar otra celda."
   ]
  },
  {
   "cell_type": "code",
   "execution_count": 7,
   "metadata": {},
   "outputs": [],
   "source": [
    "class Ventana:\n",
    "    def crearVentana(self):\n",
    "        self.root = tk.Tk()\n",
    "        self.root.title(\"Ventana\")\n",
    "        self.root.geometry(\"500x500\")\n",
    "\n",
    "        self.babrir = tk.Button(self.root,\n",
    "                                text=\"Abrir Ventana\",\n",
    "                                command=self.crearSubventana)\n",
    "        self.babrir.place(x=230,y=230)\n",
    "\n",
    "        self.bcerrar = tk.Button(self.root,\n",
    "                                 text=\"Cerrar\",\n",
    "                                 command = self.cerrarPrincipal)\n",
    "        self.bcerrar.place(x=430,y=450)\n",
    "\n",
    "        self.root.mainloop()\n",
    "\n",
    "    def cerrarPrincipal(self):\n",
    "        self.root.destroy() # Destruye la ventana principal\n",
    "\n",
    "    def crearSubventana(self):\n",
    "        self.subVentana = tk.Toplevel(self.root) # Toplevel es el objeto para crear subventanas\n",
    "        self.subVentana.geometry(\"300x300\")\n",
    "        self.bcerrarSubventana = tk.Button(self.subVentana,\n",
    "                                           text=\"Cerrar\",\n",
    "                                           command = self.cerrarSubventana)\n",
    "        self.bcerrarSubventana.place(x=150,y=170)\n",
    "        self.babrir.config(state=tk.DISABLED) # Desactiva el botón\n",
    "                                              # Esto impide la creación de más subventanas\n",
    "    \n",
    "    def cerrarSubventana(self):\n",
    "        self.subVentana.destroy() # Desturye la subventana\n",
    "        self.babrir.config(state=tk.NORMAL) # Vuelve a activar el botón\n",
    "\n",
    "ventana = Ventana()\n",
    "ventana.crearVentana()"
   ]
  }
 ],
 "metadata": {
  "kernelspec": {
   "display_name": "computer-vision",
   "language": "python",
   "name": "python3"
  },
  "language_info": {
   "codemirror_mode": {
    "name": "ipython",
    "version": 3
   },
   "file_extension": ".py",
   "mimetype": "text/x-python",
   "name": "python",
   "nbconvert_exporter": "python",
   "pygments_lexer": "ipython3",
   "version": "3.12.2"
  }
 },
 "nbformat": 4,
 "nbformat_minor": 2
}
