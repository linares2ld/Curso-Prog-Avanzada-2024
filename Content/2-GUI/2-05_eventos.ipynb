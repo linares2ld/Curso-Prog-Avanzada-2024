{
 "cells": [
  {
   "cell_type": "markdown",
   "metadata": {},
   "source": [
    "# Tipos de eventos"
   ]
  },
  {
   "cell_type": "markdown",
   "metadata": {},
   "source": [
    "En tkinter, el método bind se utiliza para asociar eventos con widgets específicos. Cuando se asocia un evento a un widget con bind, dicho widget queda atento a esos eventos y ejecuta la función especificada cuando el evento ocurre."
   ]
  },
  {
   "cell_type": "markdown",
   "metadata": {},
   "source": [
    "Al asociar eventos con el widget raíz (root), se asegura que los eventos sean capturados en cualquier lugar dentro de la ventana de la aplicación. "
   ]
  },
  {
   "cell_type": "code",
   "execution_count": null,
   "metadata": {},
   "outputs": [],
   "source": [
    "# Movimiento del mouse\n",
    "'root.bind(\"<Motion>\",funcion)'\n",
    "\n",
    "# Doble click izquierdo del mouse\n",
    "'root.bind(\"<Double-Button-1>\",funcion)'\n",
    "\n",
    "# Triple click izquierdo del mouse\n",
    "'root.bind(\"<Triple-Button-3>\",funcion)'\n",
    "\n",
    "# Cuando el mouse entra a la ventana\n",
    "'root.bind(\"<Enter>\",funcion)'\n",
    "\n",
    "# Cuando el mouse sale de la ventana\n",
    "'root.bind(\"<Leave>\",funcion)'\n",
    "\n",
    "# Cualquier tecla presionada\n",
    "'root.bind(\"<Key>\",funcion)'"
   ]
  },
  {
   "cell_type": "markdown",
   "metadata": {},
   "source": [
    "# Ejemplo: Mover un botón"
   ]
  },
  {
   "cell_type": "code",
   "execution_count": 3,
   "metadata": {},
   "outputs": [],
   "source": [
    "import tkinter as tk\n",
    "from random import randint"
   ]
  },
  {
   "cell_type": "code",
   "execution_count": 10,
   "metadata": {},
   "outputs": [],
   "source": [
    "global xi, yi\n",
    "xi = 240    # Coordenadas iniciales del botón \n",
    "yi = 240\n",
    "\n",
    "def mover(event):\n",
    "    global xi, yi\n",
    "\n",
    "    # Coordenadas de la punta del mouse\n",
    "    xa = event.x \n",
    "    ya = event.y\n",
    "\n",
    "    # Actualización de las coordenadanas del botón\n",
    "    x1 = xi - 5\n",
    "    y1 = yi -5\n",
    "    x2 = x1 + 110\n",
    "    y2 = y1 + 60\n",
    "\n",
    "    if (xa > x1 and xa <x2 and ya > y1 and ya < y2):\n",
    "        xi=randint(10,390)\n",
    "        yi=randint(10,450)\n",
    "        b_cerrar.place(x=xi,y=yi)\n",
    "\n",
    "def cerrar(event):\n",
    "    root.destroy()\n",
    "\n",
    "root = tk.Tk()\n",
    "root.geometry(\"500x500\")\n",
    "\n",
    "b_cerrar = tk.Button(root,text=\"Cerrar\")\n",
    "b_cerrar.place(x=xi,y=yi)\n",
    "\n",
    "root.bind(\"<Motion>\",mover) # Evento que activa el cambio de posición del botón\n",
    "root.bind(\"<Key>\",cerrar)   # Evento que cierra la ventana\n",
    "\n",
    "root.mainloop()"
   ]
  }
 ],
 "metadata": {
  "kernelspec": {
   "display_name": "computer-vision",
   "language": "python",
   "name": "python3"
  },
  "language_info": {
   "codemirror_mode": {
    "name": "ipython",
    "version": 3
   },
   "file_extension": ".py",
   "mimetype": "text/x-python",
   "name": "python",
   "nbconvert_exporter": "python",
   "pygments_lexer": "ipython3",
   "version": "3.12.2"
  }
 },
 "nbformat": 4,
 "nbformat_minor": 2
}
