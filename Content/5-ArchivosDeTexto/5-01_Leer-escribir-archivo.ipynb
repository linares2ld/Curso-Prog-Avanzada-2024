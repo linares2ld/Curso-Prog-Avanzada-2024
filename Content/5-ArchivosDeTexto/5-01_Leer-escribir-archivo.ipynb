{
 "cells": [
  {
   "cell_type": "markdown",
   "metadata": {},
   "source": [
    "# Modos de apertura de un archivo"
   ]
  },
  {
   "cell_type": "markdown",
   "metadata": {},
   "source": [
    "- __r__: Abre el archivo para lectura. Genera un error si el archivo no existe.\n",
    "- __x__: Crea el archivo para escritura solamente si no existe. Genera un error si el archivo existe.\n",
    "- __w__: Modo de escritura. Abre el archivo para escritura. Crea un nuevo archivo si no existe o trunca el archivo si existe.\n",
    "- __a__: Modo de anexar. Abre el archivo para añadir contenido al final del archivo. Crea un nuevo archivo si no existe."
   ]
  },
  {
   "cell_type": "markdown",
   "metadata": {},
   "source": [
    "# Leer un archivo"
   ]
  },
  {
   "cell_type": "markdown",
   "metadata": {},
   "source": [
    "## Lectura completa"
   ]
  },
  {
   "cell_type": "code",
   "execution_count": 6,
   "metadata": {},
   "outputs": [
    {
     "name": "stdout",
     "output_type": "stream",
     "text": [
      "Linea 0\n",
      "Linea 5\n",
      "Linea 10\n",
      "Linea 15\n",
      "Linea 20\n"
     ]
    }
   ],
   "source": [
    "archivo = open(\"Ejemplo.txt\",'r') # Abre el archivo de texto como archivo de bits\n",
    "\n",
    "contenido = archivo.read() # Lee el contenido del archivo\n",
    "print(contenido)\n",
    "\n",
    "archivo.close() # Cierra el archivo de texto"
   ]
  },
  {
   "cell_type": "markdown",
   "metadata": {},
   "source": [
    "## Lectura por caracteres"
   ]
  },
  {
   "cell_type": "code",
   "execution_count": 8,
   "metadata": {},
   "outputs": [
    {
     "name": "stdout",
     "output_type": "stream",
     "text": [
      "CONTENIDO 1:\n",
      "Linea 0\n",
      "Linea 5\n",
      "Linea 10\n",
      "Linea 15\n",
      "Linea 20\n",
      "\n",
      "CONTENIDO 2:\n",
      "Linea 0\n",
      "Linea\n",
      "\n",
      "CONTENIDO 3:\n",
      " 5\n",
      "Linea 10\n",
      "Linea 15\n",
      "Linea 20\n",
      "\n"
     ]
    }
   ],
   "source": [
    "archivo = open(\"Ejemplo.txt\", 'r')\n",
    "\n",
    "contenido = archivo.read()\n",
    "print(f'CONTENIDO 1:\\n{contenido}\\n')\n",
    "\n",
    "archivo.seek(0)  # Vuelve al inicio del archivo (posición 0)\n",
    "\n",
    "contenido2 = archivo.read(13)  # Lee los primeros 13 caracteres desde la posición actual del archivo\n",
    "print(f'CONTENIDO 2:\\n{contenido2}\\n')\n",
    "\n",
    "contenido3 = archivo.read()  # Lee el resto del archivo desde la posición actual\n",
    "print(f'CONTENIDO 3:\\n{contenido3}\\n')\n",
    "\n",
    "archivo.close()"
   ]
  },
  {
   "cell_type": "markdown",
   "metadata": {},
   "source": [
    "## Lectura por línea"
   ]
  },
  {
   "cell_type": "code",
   "execution_count": 14,
   "metadata": {},
   "outputs": [
    {
     "name": "stdout",
     "output_type": "stream",
     "text": [
      "Lin\n"
     ]
    }
   ],
   "source": [
    "archivo = open(\"Ejemplo.txt\",'r')\n",
    "\n",
    "caracteres = archivo.readline(3) # Lee los primeros 3 caracteres de la primera línea del archivo\n",
    "print(caracteres)\n",
    "\n",
    "archivo.close()"
   ]
  },
  {
   "cell_type": "markdown",
   "metadata": {},
   "source": [
    ".readline() regresa el contenido del archivo en forma de lista, cada espacio de la lista es una línea del documento."
   ]
  },
  {
   "cell_type": "code",
   "execution_count": 15,
   "metadata": {},
   "outputs": [
    {
     "name": "stdout",
     "output_type": "stream",
     "text": [
      "Contenido original: \n",
      "['Linea 0\\n', 'Linea 5\\n', 'Linea 10\\n', 'Linea 15\\n', 'Linea 20']\n",
      "\n"
     ]
    }
   ],
   "source": [
    "archivo = open(\"Ejemplo.txt\",'r')\n",
    "contenido = archivo.readlines()\n",
    "print(f'Contenido original: \\n{contenido}\\n')\n",
    "archivo.close()"
   ]
  },
  {
   "cell_type": "markdown",
   "metadata": {},
   "source": [
    "# Escribir un archivo"
   ]
  },
  {
   "cell_type": "code",
   "execution_count": 20,
   "metadata": {},
   "outputs": [
    {
     "name": "stdout",
     "output_type": "stream",
     "text": [
      "Contenido original: \n",
      "Linea 0\n",
      "Linea 5\n",
      "Linea 10\n",
      "Linea 15\n",
      "Linea 20\n",
      "\n",
      "Contenido modificado: \n",
      "0\n",
      "5\n",
      "10\n",
      "15\n",
      "20\n",
      "\n",
      "\n"
     ]
    }
   ],
   "source": [
    "archivo = open(\"Ejemplo.txt\",'r')\n",
    "contenido = archivo.read()\n",
    "print(f'Contenido original: \\n{contenido}\\n')\n",
    "archivo.close()\n",
    "\n",
    "# >>>>>>>> ESCRITURA CON W\n",
    "\n",
    "nuevo_contenido = []\n",
    "for i in range(5):\n",
    "    aux = contenido[i][0:-2] + str(i*5) + \"\\n\"\n",
    "    nuevo_contenido.append(aux)\n",
    "archivo = open(\"Ejemplo.txt\",\"w\")\n",
    "archivo.writelines(nuevo_contenido)\n",
    "archivo.close()\n",
    "\n",
    "# <<<<<<<< ESCRITURA CON W\n",
    "\n",
    "archivo = open(\"Ejemplo.txt\",'r')\n",
    "contenido = archivo.read()\n",
    "print(f'Contenido modificado: \\n{contenido}\\n')\n",
    "archivo.close()"
   ]
  },
  {
   "cell_type": "code",
   "execution_count": 21,
   "metadata": {},
   "outputs": [
    {
     "name": "stdout",
     "output_type": "stream",
     "text": [
      "Contenido original: \n",
      "0\n",
      "5\n",
      "10\n",
      "15\n",
      "20\n",
      "\n",
      "\n",
      "Contenido con texto agregado: \n",
      "0\n",
      "5\n",
      "10\n",
      "15\n",
      "20\n",
      "0\n",
      "5\n",
      "10\n",
      "15\n",
      "20\n",
      "\n",
      "\n"
     ]
    }
   ],
   "source": [
    "archivo = open(\"Ejemplo.txt\",'r')\n",
    "contenido = archivo.read()\n",
    "print(f'Contenido original: \\n{contenido}\\n')\n",
    "archivo.close()\n",
    "\n",
    "# >>>>>>>> ESCRITURA CON A\n",
    "\n",
    "nuevo_contenido = []\n",
    "for i in range(5):\n",
    "    aux = contenido[i][0:-2] + str(i*5) + \"\\n\"\n",
    "    nuevo_contenido.append(aux)\n",
    "archivo = open(\"Ejemplo.txt\",\"a\")\n",
    "archivo.writelines(nuevo_contenido)\n",
    "archivo.close()\n",
    "\n",
    "# <<<<<<<< ESCRITURA CON A\n",
    "\n",
    "archivo = open(\"Ejemplo.txt\",'r')\n",
    "contenido = archivo.read()\n",
    "print(f'Contenido con texto agregado: \\n{contenido}\\n')\n",
    "archivo.close()"
   ]
  }
 ],
 "metadata": {
  "kernelspec": {
   "display_name": "computer-vision",
   "language": "python",
   "name": "python3"
  },
  "language_info": {
   "codemirror_mode": {
    "name": "ipython",
    "version": 3
   },
   "file_extension": ".py",
   "mimetype": "text/x-python",
   "name": "python",
   "nbconvert_exporter": "python",
   "pygments_lexer": "ipython3",
   "version": "3.12.2"
  }
 },
 "nbformat": 4,
 "nbformat_minor": 2
}
