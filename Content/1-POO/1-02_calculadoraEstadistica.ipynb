{
 "cells": [
  {
   "cell_type": "markdown",
   "metadata": {},
   "source": [
    "# Clases padre"
   ]
  },
  {
   "cell_type": "code",
   "execution_count": 17,
   "metadata": {},
   "outputs": [],
   "source": [
    "class Promedio():\n",
    "    def __init__(self): # Método constructor -> Sirve para iniciar atributos\n",
    "        self.cantidad = 0\n",
    "        self.valores = [] # Los atributos son \"caracteristicas\" que tienen los objetos de la clase\n",
    "        self.promedio = 0 # Funcionan como variables globales dentro de la clase y sus clases hija\n",
    "\n",
    "    def ingresar_datos(self):\n",
    "        self.cantidad = int(input(\"Cantidad de datos de la lista: \"))\n",
    "\n",
    "        for i in range(self.cantidad):\n",
    "            aux = float(input(f'Dato {i+1}'))\n",
    "            print(f'Dato {i+1}: {aux} ')\n",
    "            self.valores.append(aux)\n",
    "        \n",
    "    def calcular_promedio(self):\n",
    "        suma = 0\n",
    "\n",
    "        for i in range(self.cantidad):\n",
    "            suma += self.valores[i]\n",
    "\n",
    "        self.promedio = suma / self.cantidad\n",
    "        print(f'\\nPromedio: {self.promedio}')"
   ]
  },
  {
   "cell_type": "code",
   "execution_count": 18,
   "metadata": {},
   "outputs": [
    {
     "name": "stdout",
     "output_type": "stream",
     "text": [
      "Dato 1: 3.0 \n",
      "Dato 2: 6.0 \n",
      "Dato 3: 6.0 \n",
      "Dato 4: 7.0 \n",
      "Dato 5: 9.0 \n",
      "\n",
      "Promedio: 6.2\n"
     ]
    }
   ],
   "source": [
    "# Ejecutar para probar la clase\n",
    "\n",
    "prom = Promedio()\n",
    "prom.ingresar_datos()\n",
    "prom.calcular_promedio()"
   ]
  },
  {
   "cell_type": "code",
   "execution_count": 19,
   "metadata": {},
   "outputs": [],
   "source": [
    "class Mediana():\n",
    "    def __init__(self):\n",
    "        self.cantidad = 0\n",
    "        self.valores = []\n",
    "        self.promedio = 0\n",
    "\n",
    "    def ingresar_datos(self):\n",
    "        self.cantidad = int(input(\"Cantidad de datos de la lista: \"))\n",
    "\n",
    "        for i in range(self.cantidad):\n",
    "            aux = float(input(f'Dato {i+1}'))\n",
    "            print(f'Dato {i+1}: {aux} ')\n",
    "            self.valores.append(aux)\n",
    "    \n",
    "    def calcular_mediana(self):\n",
    "        self.valores.sort()\n",
    "        print(f'\\nValores ordenados: {self.valores}')\n",
    "        \n",
    "        aux1 = self.cantidad % 2\n",
    "        \n",
    "        if aux1 == 1:\n",
    "            aux2 = int(self.cantidad / 2)\n",
    "            mediana = self.valores[aux2]\n",
    "            print(f'Mediana: {mediana}')\n",
    "\n",
    "        else:\n",
    "            aux2 = int(self.cantidad / 2)\n",
    "            aux3 = aux2 - 1\n",
    "            mediana1 = self.valores[aux3]\n",
    "            mediana2 = self.valores[aux2]\n",
    "            print(f'{mediana1}, {mediana2}')\n"
   ]
  },
  {
   "cell_type": "code",
   "execution_count": 21,
   "metadata": {},
   "outputs": [
    {
     "name": "stdout",
     "output_type": "stream",
     "text": [
      "Dato 1: 4.0 \n",
      "Dato 2: 6.0 \n",
      "Dato 3: 3.0 \n",
      "Dato 4: 5.0 \n",
      "Dato 5: 8.0 \n",
      "Dato 6: 9.0 \n",
      "Dato 7: 1.0 \n",
      "\n",
      "Valores ordenados: [1.0, 3.0, 4.0, 5.0, 6.0, 8.0, 9.0]\n",
      "Mediana: 5.0\n"
     ]
    }
   ],
   "source": [
    "# Ejecutar para probar la clase\n",
    "\n",
    "med = Mediana()\n",
    "med.ingresar_datos()\n",
    "med.calcular_mediana()"
   ]
  },
  {
   "cell_type": "code",
   "execution_count": 4,
   "metadata": {},
   "outputs": [],
   "source": [
    "class Moda():\n",
    "    def __init__(self):\n",
    "        self.cantidad = 0\n",
    "        self.valores = []\n",
    "        self.promedio = 0\n",
    "\n",
    "    def ingresar_datos(self):\n",
    "        self.cantidad = int(input(\"Cantidad de datos de la lista: \"))\n",
    "\n",
    "        for i in range(self.cantidad):\n",
    "            aux = float(input(f'Dato {i+1}'))\n",
    "            print(f'Dato {i+1}: {aux} ')\n",
    "            self.valores.append(aux)   \n",
    "\n",
    "    def calcular_moda(self):\n",
    "\n",
    "        # >> MATRIZ DE CEROS\n",
    "        esp = len(self.valores)\n",
    "        aux = []\n",
    "        for i in range(esp):\n",
    "            aux.append(0)\n",
    "        # << MATRIZ DE CEROS\n",
    "\n",
    "        # >> CONTADOR\n",
    "        self.valores = sorted(self.valores)\n",
    "\n",
    "        for i in range(self.cantidad):\n",
    "            valor_actual = self.valores[i]\n",
    "\n",
    "            for j in range(i,self.cantidad):\n",
    "                if(valor_actual == self.valores[j]):\n",
    "                    aux[j] += 1\n",
    "        # << CONTADOR\n",
    "        \n",
    "        aux3 = 0\n",
    "        aux2 = aux[0]\n",
    "\n",
    "        for i in range(1,self.cantidad):\n",
    "            if(aux[i]>aux2):\n",
    "                aux2 = aux[i]\n",
    "                aux3 = i\n",
    "        \n",
    "        print(f'Moda: {self.valores[aux3]}')\n",
    "\n"
   ]
  },
  {
   "cell_type": "markdown",
   "metadata": {},
   "source": [
    "# Clase hija"
   ]
  },
  {
   "cell_type": "code",
   "execution_count": 7,
   "metadata": {},
   "outputs": [],
   "source": [
    "class CalculadoraEstadistica(Promedio,Mediana,Moda):\n",
    "\n",
    "    def menu(self):\n",
    "            \n",
    "        print(\"Ingresa la opción deseada\\n\")\n",
    "        print(\"\"\"\n",
    "        1.- Promedio\n",
    "        2.- Mediana\n",
    "        3.- Moda\n",
    "                \"\"\")\n",
    "            \n",
    "        while (True):\n",
    "            \n",
    "            opcion = int(input(\"Selecciona una operación: \"))\n",
    "\n",
    "            if(opcion == 1):\n",
    "                self.ingresar_datos()\n",
    "                self.calcular_promedio()\n",
    "            elif(opcion == 2):\n",
    "                self.ingresar_datos()\n",
    "                self.calcular_mediana()\n",
    "            elif(opcion == 3):\n",
    "                self.ingresar_datos()\n",
    "                self.calcular_moda()\n",
    "            else:\n",
    "                print(\"Opción no válida\")\n",
    "\n",
    "            opcion = input(\"Ingresa N si deseas terminar o cualquier otro botón para continuar\")\n",
    "            if(opcion == \"N\" or opcion == \"n\"):\n",
    "                break"
   ]
  },
  {
   "cell_type": "code",
   "execution_count": 8,
   "metadata": {},
   "outputs": [
    {
     "name": "stdout",
     "output_type": "stream",
     "text": [
      "Ingresa la opción deseada\n",
      "\n",
      "\n",
      "        1.- Promedio\n",
      "        2.- Mediana\n",
      "        3.- Moda\n",
      "                \n",
      "Dato 0: 4.0 \n",
      "Dato 1: 5.0 \n",
      "Dato 2: 6.0 \n",
      "Promedio: 5.0\n"
     ]
    }
   ],
   "source": [
    "calculadora_estadistica = CalculadoraEstadistica()\n",
    "calculadora_estadistica.menu()"
   ]
  }
 ],
 "metadata": {
  "kernelspec": {
   "display_name": "base",
   "language": "python",
   "name": "python3"
  },
  "language_info": {
   "codemirror_mode": {
    "name": "ipython",
    "version": 3
   },
   "file_extension": ".py",
   "mimetype": "text/x-python",
   "name": "python",
   "nbconvert_exporter": "python",
   "pygments_lexer": "ipython3",
   "version": "3.12.2"
  }
 },
 "nbformat": 4,
 "nbformat_minor": 2
}
