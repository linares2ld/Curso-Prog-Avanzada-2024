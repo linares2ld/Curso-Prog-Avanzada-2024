{
 "cells": [
  {
   "cell_type": "markdown",
   "metadata": {},
   "source": [
    "# Clases padre - Suma, Resta, Multiplicacion y Division"
   ]
  },
  {
   "cell_type": "code",
   "execution_count": 23,
   "metadata": {},
   "outputs": [],
   "source": [
    "class Suma(): # Creación de una clase\n",
    "\n",
    "    def suma(self): # Una función dentro de una clase se llama método       \n",
    "\n",
    "        # Un método son acciones que pueden hacerlos objetos de una clase\n",
    "\n",
    "        a = int(input(\"Ingresa el 1er valor\"))\n",
    "        b = int(input(\"Ingresa el 2nd valor\"))\n",
    "        print(f'{a} + {b} = {a+b}')"
   ]
  },
  {
   "cell_type": "code",
   "execution_count": 30,
   "metadata": {},
   "outputs": [
    {
     "name": "stdout",
     "output_type": "stream",
     "text": [
      "5 + 7 = 12\n"
     ]
    }
   ],
   "source": [
    "# Ejecutar para probar la clase\n",
    "\n",
    "suma1 = Suma() # Creando el objeto suma1 de la clase Suma()\n",
    "suma1.suma() # El objeto suma1 llama al método suma() para realizar la acci+on designada"
   ]
  },
  {
   "cell_type": "code",
   "execution_count": 24,
   "metadata": {},
   "outputs": [],
   "source": [
    "class Resta():\n",
    "    \n",
    "    def resta(self):\n",
    "        a = int(input(\"Ingresa el 1er valor\"))\n",
    "        b = int(input(\"Ingresa el 2nd valor\"))\n",
    "        print(f'{a} - {b} = {a-b}')"
   ]
  },
  {
   "cell_type": "code",
   "execution_count": 31,
   "metadata": {},
   "outputs": [
    {
     "name": "stdout",
     "output_type": "stream",
     "text": [
      "7 - 2 = 5\n"
     ]
    }
   ],
   "source": [
    "# Ejecutar para probar la clase\n",
    "\n",
    "resta1 = Resta()\n",
    "resta1.resta()"
   ]
  },
  {
   "cell_type": "code",
   "execution_count": 25,
   "metadata": {},
   "outputs": [],
   "source": [
    "class Multiplicacion():\n",
    "    \n",
    "    def multiplicacion(self):\n",
    "        a = int(input(\"Ingresa el 1er valor\"))\n",
    "        b = int(input(\"Ingresa el 2nd valor\"))\n",
    "        print(f'{a} * {b} = {a*b}')"
   ]
  },
  {
   "cell_type": "code",
   "execution_count": 32,
   "metadata": {},
   "outputs": [
    {
     "name": "stdout",
     "output_type": "stream",
     "text": [
      "2 * 5 = 10\n"
     ]
    }
   ],
   "source": [
    "# Ejecutar para probar la clase\n",
    "\n",
    "mult1 = Multiplicacion()\n",
    "mult1.multiplicacion()"
   ]
  },
  {
   "cell_type": "markdown",
   "metadata": {},
   "source": [
    "## Sentencias Try y Except"
   ]
  },
  {
   "cell_type": "markdown",
   "metadata": {},
   "source": [
    "Los bloques Try y Except se utilzan para manejar errores en el código como _excepciones_."
   ]
  },
  {
   "cell_type": "markdown",
   "metadata": {},
   "source": [
    "__Sintaxis__:"
   ]
  },
  {
   "cell_type": "code",
   "execution_count": 3,
   "metadata": {},
   "outputs": [
    {
     "name": "stdout",
     "output_type": "stream",
     "text": [
      "h\n",
      "Syntax error\n"
     ]
    }
   ],
   "source": [
    "try: # Código que se quiere ejecutar\n",
    "    numero = input(\"Ingresa el 1er valor\")\n",
    "    print(numero)\n",
    "    numero = int(numero) \n",
    "    \n",
    "    # Si se ingresa una letra generaría un error tipo: ValueError\n",
    "\n",
    "except ValueError: # Código que ejecutara para manejar el error como excepción\n",
    "    print(\"Syntax error\") \n",
    "\n",
    "    #  El parametro después de la sentencia except es el tipo de error con el que se activará el bloque\n"
   ]
  },
  {
   "cell_type": "code",
   "execution_count": 26,
   "metadata": {},
   "outputs": [],
   "source": [
    "class Division():\n",
    "\n",
    "    def division(self):\n",
    "        while(True):\n",
    "            try:\n",
    "                a = int(input(\"Ingresa el 1er valor\"))\n",
    "                b = int(input(\"Ingresa el 2nd valor\"))\n",
    "                break\n",
    "\n",
    "            except ValueError:\n",
    "                print(\"Syntax error\")\n",
    "\n",
    "        try:\n",
    "            print(f'{a} / {b} = {a/b}')\n",
    "        \n",
    "        except ZeroDivisionError:\n",
    "            print(\"Math Error\")\n"
   ]
  },
  {
   "cell_type": "code",
   "execution_count": 34,
   "metadata": {},
   "outputs": [
    {
     "name": "stdout",
     "output_type": "stream",
     "text": [
      "8 / 10 = 0.8\n"
     ]
    }
   ],
   "source": [
    "# Ejecutar para probar la clase\n",
    "\n",
    "div1 = Division()\n",
    "div1.division()"
   ]
  },
  {
   "cell_type": "markdown",
   "metadata": {},
   "source": [
    "# Clase hija - CalculadoraBasica"
   ]
  },
  {
   "cell_type": "markdown",
   "metadata": {},
   "source": [
    "__Herencia simple__: Cuando una clase presenta herencia de una sola clase."
   ]
  },
  {
   "cell_type": "markdown",
   "metadata": {},
   "source": [
    "Este es un caso de __herencia multiple__. La clase presenta herencia de más de una clase."
   ]
  },
  {
   "cell_type": "code",
   "execution_count": 27,
   "metadata": {},
   "outputs": [],
   "source": [
    "class CalculadoraBasica(Suma,Resta,Multiplicacion,Division):\n",
    "\n",
    "    def menu(self):\n",
    "\n",
    "        print(\"Ingresa la opción deseada\\n\")\n",
    "        print(\"\"\"\n",
    "        1.- Suma\n",
    "        2.- Resta\n",
    "        3.- Multiplicación\n",
    "        4.- División\n",
    "                \"\"\")\n",
    "        \n",
    "        while (True):\n",
    "            \n",
    "            opcion = int(input(\"Selecciona una operación: \"))\n",
    "\n",
    "            if(opcion == 1):\n",
    "                self.suma() # Hereda los métodos, y los puede ocupar como propios\n",
    "            elif(opcion == 2):\n",
    "                self.resta()\n",
    "            elif(opcion == 3):\n",
    "                self.multiplicacion()\n",
    "            elif(opcion == 4):\n",
    "                self.division()\n",
    "            else:\n",
    "                print(\"Opción no válida\")\n",
    "\n",
    "            terminar = input(\"Ingresa N si deseas terminar o cualquier otro botón para continuar\")\n",
    "            if(terminar == \"N\" or terminar == \"n\"):\n",
    "                break"
   ]
  },
  {
   "cell_type": "code",
   "execution_count": 29,
   "metadata": {},
   "outputs": [
    {
     "name": "stdout",
     "output_type": "stream",
     "text": [
      "Ingresa la opción deseada\n",
      "\n",
      "\n",
      "        1.- Suma\n",
      "        2.- Resta\n",
      "        3.- Multiplicación\n",
      "        4.- División\n",
      "                \n",
      "3 + 4 = 7\n",
      "3 - 4 = -1\n",
      "3 * 4 = 12\n",
      "3 / 4 = 0.75\n"
     ]
    }
   ],
   "source": [
    "# Ejecutar para probar la clase\n",
    "\n",
    "ope = CalculadoraBasica()\n",
    "ope.menu()"
   ]
  }
 ],
 "metadata": {
  "kernelspec": {
   "display_name": "base",
   "language": "python",
   "name": "python3"
  },
  "language_info": {
   "codemirror_mode": {
    "name": "ipython",
    "version": 3
   },
   "file_extension": ".py",
   "mimetype": "text/x-python",
   "name": "python",
   "nbconvert_exporter": "python",
   "pygments_lexer": "ipython3",
   "version": "3.12.2"
  }
 },
 "nbformat": 4,
 "nbformat_minor": 2
}
