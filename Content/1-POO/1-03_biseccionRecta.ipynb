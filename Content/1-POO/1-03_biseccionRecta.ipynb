{
 "cells": [
  {
   "cell_type": "code",
   "execution_count": 1,
   "metadata": {},
   "outputs": [],
   "source": [
    "class Biseccion():\n",
    "    def __init__(self):\n",
    "        self.m = 0\n",
    "        self.b = 0\n",
    "        self.xi = 0\n",
    "        self.xf = 0\n",
    "        self.xm = 0\n",
    "        self.xr = 0\n",
    "        self.fxi = 0\n",
    "        self.fxm = 0\n",
    "    \n",
    "    def calcularXm(self):\n",
    "        self.xm = (self.xi + self.xf)/2\n",
    "\n",
    "    def ingresarDatos(self):\n",
    "        self.m = float(input(\"Ingresar el valor de la pendiente: \"))\n",
    "        self.b = float(input(\"Ingresar el recorrido en Y\"))\n",
    "        self.xi = float(input(\"Ingresar la X inicial\"))\n",
    "        self.xf = float(input(\"Ingresar la X final\"))\n",
    "    \n",
    "    def calcularFx(self,x):\n",
    "        fx = (self.m*x) + self.b\n",
    "\n",
    "        return fx\n",
    "    \n",
    "    def calcularBiseccion(self):\n",
    "        i = 0\n",
    "        e = 1\n",
    "        while(i<1000 and e>0.01):\n",
    "            self.calcularXm()\n",
    "            self.fxi = self.calcularFx(self.xi)\n",
    "            self.fxm = self.calcularFx(self.xm)\n",
    "            multiplicafs = self.fxi * self.fxm\n",
    "            if(multiplicafs > 0):\n",
    "                self.xi = self.xm\n",
    "            elif(multiplicafs < 0):\n",
    "                self.xf = self.xm\n",
    "            elif(multiplicafs == 0):\n",
    "                break\n",
    "\n",
    "            i += 1\n",
    "            e = abs(self.fxm)\n",
    "        self.xr = self.xm\n",
    "        print(f\"Se encontró la raíz en x={self.xr} en la iteración: {i}, con un error de {e}\")"
   ]
  },
  {
   "cell_type": "code",
   "execution_count": 3,
   "metadata": {},
   "outputs": [
    {
     "name": "stdout",
     "output_type": "stream",
     "text": [
      "Se encontró la raíz en x=1.5718750000000001 en la iteración: 7, con un error de 0.0031250000000007105\n"
     ]
    }
   ],
   "source": [
    "B = Biseccion()\n",
    "B.ingresarDatos()\n",
    "B.calcularBiseccion()"
   ]
  }
 ],
 "metadata": {
  "kernelspec": {
   "display_name": "base",
   "language": "python",
   "name": "python3"
  },
  "language_info": {
   "codemirror_mode": {
    "name": "ipython",
    "version": 3
   },
   "file_extension": ".py",
   "mimetype": "text/x-python",
   "name": "python",
   "nbconvert_exporter": "python",
   "pygments_lexer": "ipython3",
   "version": "3.1.0"
  }
 },
 "nbformat": 4,
 "nbformat_minor": 2
}
