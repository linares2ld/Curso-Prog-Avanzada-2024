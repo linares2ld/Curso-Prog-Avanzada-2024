{
 "cells": [
  {
   "cell_type": "markdown",
   "metadata": {},
   "source": [
    "# Desarrollo: Función para derivar polinomios"
   ]
  },
  {
   "cell_type": "markdown",
   "metadata": {},
   "source": [
    "## Separar los terminos en listas"
   ]
  },
  {
   "cell_type": "markdown",
   "metadata": {},
   "source": [
    "3*x**3 +x**2 +3*x -x -3"
   ]
  },
  {
   "cell_type": "code",
   "execution_count": 392,
   "metadata": {},
   "outputs": [
    {
     "data": {
      "text/plain": [
       "[['x', '', '5'], ['+5', 'x', '', '4'], ['-x', '', '3'], ['-x'], ['+1']]"
      ]
     },
     "execution_count": 392,
     "metadata": {},
     "output_type": "execute_result"
    }
   ],
   "source": [
    "# Se introduce el polinomio de mayor a menor grado con el formato establecido\n",
    "# y separa los monomios y los monomios en terminos independientes.\n",
    "\n",
    "def split_terms(polinomio):\n",
    "    polinomio = polinomio.split(\" \")\n",
    "    list_aux = []\n",
    "    for i in range(len(polinomio)):\n",
    "        aux = polinomio[i].split(\"*\")\n",
    "        list_aux.append(aux)\n",
    "    return list_aux\n",
    "\n",
    "polinomio = input(\"\"\"Introduce un polinomio de 1 grados con la siguiente estructura:\n",
    "                  a*x**5 +b*x**3 -c*x**2\"\"\")\n",
    "pol_split_t = split_terms(polinomio)\n",
    "pol_split_t"
   ]
  },
  {
   "cell_type": "markdown",
   "metadata": {},
   "source": [
    "## Mide el tamaño de las listas"
   ]
  },
  {
   "cell_type": "code",
   "execution_count": 393,
   "metadata": {},
   "outputs": [
    {
     "data": {
      "text/plain": [
       "[3, 4, 3, 1, 1]"
      ]
     },
     "execution_count": 393,
     "metadata": {},
     "output_type": "execute_result"
    }
   ],
   "source": [
    "# PRIMER USO\n",
    "\n",
    "# Mide el tamaño de las listas formadas al separar los monomios en términos\n",
    "# 4 -> grado 2 o mayor\n",
    "# 2 -> grado 1\n",
    "# 1 -> grado 0\n",
    "\n",
    "def terms_size(pol_split_t):\n",
    "    list_aux = []\n",
    "    for i in range(len(pol_split_t)):\n",
    "        aux = len(pol_split_t[i])     \n",
    "        list_aux.append(aux)\n",
    "    return list_aux\n",
    "\n",
    "pol_t_size = terms_size(pol_split_t)\n",
    "pol_t_size"
   ]
  },
  {
   "cell_type": "code",
   "execution_count": 394,
   "metadata": {},
   "outputs": [],
   "source": [
    "for  terms,size in zip(pol_split_t,pol_t_size):\n",
    "\n",
    "    if size == 3:\n",
    "        aux = terms[0][0]\n",
    "        if aux == '-':\n",
    "            terms.insert(0,-1)\n",
    "        else :\n",
    "            terms.insert(0,1)\n",
    "    \n",
    "    if size == 1:\n",
    "        aux = terms[0][0]\n",
    "        if len(terms[0]) == 1:\n",
    "            if terms[0] == \"x\":\n",
    "                terms.insert(0,1)\n",
    "        else:\n",
    "            is_x = terms[0][1].isalpha()\n",
    "            if is_x == True:\n",
    "                if aux == '+':\n",
    "                    terms.insert(0,1)\n",
    "                else :\n",
    "                    terms.insert(0,-1)"
   ]
  },
  {
   "cell_type": "code",
   "execution_count": 395,
   "metadata": {},
   "outputs": [
    {
     "data": {
      "text/plain": [
       "[4, 4, 4, 2, 1]"
      ]
     },
     "execution_count": 395,
     "metadata": {},
     "output_type": "execute_result"
    }
   ],
   "source": [
    "# SEGUNDO USO\n",
    "\n",
    "def terms_size(pol_split_t):\n",
    "    list_aux = []\n",
    "    for i in range(len(pol_split_t)):\n",
    "        aux = len(pol_split_t[i])     \n",
    "        list_aux.append(aux)\n",
    "    return list_aux\n",
    "\n",
    "pol_t_size = terms_size(pol_split_t)\n",
    "pol_t_size"
   ]
  },
  {
   "cell_type": "code",
   "execution_count": 396,
   "metadata": {},
   "outputs": [
    {
     "name": "stdout",
     "output_type": "stream",
     "text": [
      "[[1, 'x', '', '5'], ['+5', 'x', '', '4'], [-1, '-x', '', '3'], [-1, '-x'], ['+1']]\n",
      "[4, 4, 4, 2, 1]\n"
     ]
    }
   ],
   "source": [
    "print(pol_split_t)\n",
    "print(pol_t_size)"
   ]
  },
  {
   "cell_type": "markdown",
   "metadata": {},
   "source": [
    "## Extrae los valores numéricos de las listas"
   ]
  },
  {
   "cell_type": "code",
   "execution_count": 397,
   "metadata": {},
   "outputs": [
    {
     "name": "stdout",
     "output_type": "stream",
     "text": [
      "[1, 5, -1, -1, 1]\n",
      "[5, 4, 3, 1, 0]\n"
     ]
    }
   ],
   "source": [
    "# FORMA 2 (optima)\n",
    "def extract_terms(pol_split_t,pol_t_size):\n",
    "    list_aux = [[],[]]\n",
    "\n",
    "    for terms,size in zip(pol_split_t,pol_t_size):\n",
    "        if size == 4:\n",
    "            aux1 = terms[0]\n",
    "            aux2 = terms[3]\n",
    "            list_aux[0].append(int(aux1))\n",
    "            list_aux[1].append(int(aux2))\n",
    "        if size == 2:\n",
    "            aux1 = terms[0]\n",
    "            list_aux[0].append(int(aux1))\n",
    "            list_aux[1].append(1)\n",
    "        if size == 1:\n",
    "            aux1 = terms[0]\n",
    "            list_aux[0].append(int(aux1))\n",
    "            list_aux[1].append(0)\n",
    "    return list_aux\n",
    " \n",
    "pol_coef,pol_grade = extract_terms(pol_split_t,pol_t_size)\n",
    "print(pol_coef)\n",
    "print(pol_grade)"
   ]
  },
  {
   "cell_type": "markdown",
   "metadata": {},
   "source": [
    "## Calcula los coeficientes, grados de la derivada y los signos de los coeficientes"
   ]
  },
  {
   "cell_type": "code",
   "execution_count": 398,
   "metadata": {},
   "outputs": [],
   "source": [
    "# CONTINUACIÓN DE LA FORMA 2\n",
    "def derivate_and_signs(pol_coef,pol_grade):\n",
    "    list_aux = [[],[],[]]\n",
    "\n",
    "    for coef,grade in zip(pol_coef,pol_grade):\n",
    "        aux1 = coef*grade\n",
    "        aux2 = grade-1\n",
    "        list_aux[0].append(aux1)\n",
    "        list_aux[1].append(aux2)\n",
    "\n",
    "    menor_cero = lambda x:x<0\n",
    "    list_aux[2] =[menor_cero(x) for x in pol_coef]\n",
    "\n",
    "    return list_aux"
   ]
  },
  {
   "cell_type": "code",
   "execution_count": 399,
   "metadata": {},
   "outputs": [
    {
     "name": "stdout",
     "output_type": "stream",
     "text": [
      "[5, 20, -3, -1, 0]\n",
      "[4, 3, 2, 0, -1]\n",
      "[False, False, True, True, False]\n"
     ]
    }
   ],
   "source": [
    "pol_coef,pol_grade,signo = derivate_and_signs(pol_coef,pol_grade)\n",
    "print(pol_coef)\n",
    "print(pol_grade)\n",
    "print(signo)"
   ]
  },
  {
   "cell_type": "code",
   "execution_count": 400,
   "metadata": {},
   "outputs": [
    {
     "name": "stdout",
     "output_type": "stream",
     "text": [
      "[[1, 'x', '', '5'], ['+5', 'x', '', '4'], [-1, '-x', '', '3'], [-1, '-x'], ['+1']]\n",
      "[4, 4, 4, 2, 1]\n",
      "\n",
      "[4, 3, 2, 0, -1]\n",
      "[5, 20, -3, -1, 0]\n",
      "[False, False, True, True, False]\n"
     ]
    }
   ],
   "source": [
    "print(pol_split_t)\n",
    "print(pol_t_size)\n",
    "print(\"\")\n",
    "print(pol_grade)\n",
    "print(pol_coef)\n",
    "print(signo)"
   ]
  },
  {
   "cell_type": "markdown",
   "metadata": {},
   "source": [
    "## Escibe el resultado"
   ]
  },
  {
   "cell_type": "code",
   "execution_count": 401,
   "metadata": {},
   "outputs": [],
   "source": [
    "def write_ecuation(pol_grade,pol_coef,signo):\n",
    "    \n",
    "    index_size = len(pol_grade)\n",
    "    monomios_derivada = []\n",
    "    \n",
    "    if pol_coef[index_size-1] == 0 :\n",
    "        index_size = index_size - 1\n",
    "\n",
    "    for grade,coef,sign,i in zip(pol_grade,pol_coef,signo,range(index_size)):\n",
    "        \n",
    "        aux = str(coef)\n",
    "        \n",
    "        if (sign == False and i == 0):\n",
    "            if grade > 0 :\n",
    "                if grade == 1 :\n",
    "                    aux = aux + \"*x\"\n",
    "                else:\n",
    "                    aux = aux + \"*x**\" + str(grade)\n",
    "\n",
    "                monomios_derivada.append(aux)\n",
    "                continue\n",
    "            else:\n",
    "                aux = str(coef)\n",
    "                monomios_derivada.append(aux)\n",
    "                continue\n",
    "\n",
    "        if sign == False :\n",
    "            aux = \" +\" + str(coef)\n",
    "        else:\n",
    "            aux = \" \" + str(coef)\n",
    "\n",
    "        if grade > 0 :\n",
    "            if grade == 1 :\n",
    "                aux = aux + \"*x\"\n",
    "            else:\n",
    "                aux = aux + \"*x**\" + str(grade)\n",
    "\n",
    "        monomios_derivada.append(aux)\n",
    "    \n",
    "    resultado = \"\"\n",
    "    for monomio in monomios_derivada:\n",
    "        resultado = resultado + monomio\n",
    "\n",
    "    return resultado"
   ]
  },
  {
   "cell_type": "code",
   "execution_count": 402,
   "metadata": {},
   "outputs": [
    {
     "name": "stdout",
     "output_type": "stream",
     "text": [
      "5*x**4 +20*x**3 -3*x**2 -1\n"
     ]
    },
    {
     "data": {
      "text/plain": [
       "'5*x**4 +20*x**3 -3*x**2 -1'"
      ]
     },
     "execution_count": 402,
     "metadata": {},
     "output_type": "execute_result"
    }
   ],
   "source": [
    "derivada = write_ecuation(pol_grade,pol_coef,signo)\n",
    "print(derivada)\n",
    "derivada"
   ]
  },
  {
   "cell_type": "markdown",
   "metadata": {},
   "source": [
    "## Función final: pol_derivate"
   ]
  },
  {
   "cell_type": "code",
   "execution_count": 403,
   "metadata": {},
   "outputs": [],
   "source": [
    "def pol_derivate(polinomio):\n",
    "    pol_split_t = split_terms(polinomio)\n",
    "    pol_t_size = terms_size(pol_split_t)\n",
    "\n",
    "    for  terms,size in zip(pol_split_t,pol_t_size):\n",
    "\n",
    "        if size == 3:\n",
    "            aux = terms[0][0]\n",
    "            if aux == '-':\n",
    "                terms.insert(0,-1)\n",
    "            else :\n",
    "                terms.insert(0,1)\n",
    "        \n",
    "        if size == 1:\n",
    "            aux = terms[0][0]\n",
    "            if len(terms[0]) == 1:\n",
    "                if terms[0] == \"x\":\n",
    "                    terms.insert(0,1)\n",
    "            else:\n",
    "                is_x = terms[0][1].isalpha()\n",
    "                if is_x == True:\n",
    "                    if aux == '+':\n",
    "                        terms.insert(0,1)\n",
    "                    else :\n",
    "                        terms.insert(0,-1)\n",
    "\n",
    "    pol_t_size = terms_size(pol_split_t)\n",
    "\n",
    "    if pol_t_size[0] != 1:\n",
    "\n",
    "        pol_coef,pol_grade = extract_terms(pol_split_t,pol_t_size)\n",
    "        pol_coef,pol_grade,signo = derivate_and_signs(pol_coef,pol_grade)\n",
    "        derivada = write_ecuation(pol_grade,pol_coef,signo)\n",
    "    else:\n",
    "        derivada = 0\n",
    "\n",
    "    return derivada"
   ]
  },
  {
   "cell_type": "markdown",
   "metadata": {},
   "source": [
    "# Prueba: pol_derivate"
   ]
  },
  {
   "cell_type": "code",
   "execution_count": 404,
   "metadata": {},
   "outputs": [
    {
     "name": "stdout",
     "output_type": "stream",
     "text": [
      "Ecuación original: x**5 +5*x**4 -x**3 -x +1\n",
      "Derivada: 5*x**4 +20*x**3 -3*x**2 -1\n"
     ]
    }
   ],
   "source": [
    "polinomio = input(\"\"\"Introduce un polinomio de 1 grado con la siguiente estructura:\n",
    "                    a*x**5 +b*x**3 -c*x**2\"\"\")\n",
    "\n",
    "derivada = pol_derivate(polinomio)\n",
    "\n",
    "print(f'Ecuación original: {polinomio}')\n",
    "print(f'Derivada: {derivada}')"
   ]
  },
  {
   "cell_type": "markdown",
   "metadata": {},
   "source": [
    "# Ejemplo de una función de la libreria __sympy__ que deriva polinomios"
   ]
  },
  {
   "cell_type": "code",
   "execution_count": 405,
   "metadata": {},
   "outputs": [
    {
     "name": "stdout",
     "output_type": "stream",
     "text": [
      "Ecuación original: 9\n",
      "Derivada: 0\n"
     ]
    }
   ],
   "source": [
    "from sympy import symbols, diff\n",
    "\n",
    "# Definir la variable simbólica\n",
    "x = symbols('x')\n",
    "\n",
    "# Definir la ecuación polinomial, por ejemplo: 3x^2 + 2x + 1\n",
    "ecuacion = 9\n",
    "\n",
    "# Obtener la derivada de la ecuación\n",
    "derivada = diff(ecuacion, x)\n",
    "\n",
    "# Imprimir la derivada\n",
    "print(\"Ecuación original:\", ecuacion)\n",
    "print(\"Derivada:\", derivada)"
   ]
  }
 ],
 "metadata": {
  "kernelspec": {
   "display_name": "base",
   "language": "python",
   "name": "python3"
  },
  "language_info": {
   "codemirror_mode": {
    "name": "ipython",
    "version": 3
   },
   "file_extension": ".py",
   "mimetype": "text/x-python",
   "name": "python",
   "nbconvert_exporter": "python",
   "pygments_lexer": "ipython3",
   "version": "3.11.5"
  }
 },
 "nbformat": 4,
 "nbformat_minor": 2
}
