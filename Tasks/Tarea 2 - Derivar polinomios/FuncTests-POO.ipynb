{
 "cells": [
  {
   "cell_type": "markdown",
   "metadata": {},
   "source": [
    "# Desarrollo: Función para derivar polinomios"
   ]
  },
  {
   "cell_type": "markdown",
   "metadata": {},
   "source": [
    "Con las funciones diseñadas en el Notebook *FuncTests.ipnb* se crearon dos clases, las cuales ocupan las funciones como métodos, para cambiar el paradigma del código a POO."
   ]
  },
  {
   "cell_type": "markdown",
   "metadata": {},
   "source": [
    "## Operaciones de preprocesamiento de texto para extrar los valores necesarios"
   ]
  },
  {
   "cell_type": "code",
   "execution_count": 1,
   "metadata": {},
   "outputs": [],
   "source": [
    "class Preprocessing_operations:\n",
    "    def __init__(self,polynomial):\n",
    "        self.polynomial = polynomial\n",
    "\n",
    "    # Separa el polinomio en monomios y los monomios en térmios: \n",
    "    # - coeficiente con signo\n",
    "    # - variable\n",
    "    # - grado del monomio\n",
    "    def split_terms(self):\n",
    "        self.polynomial = self.polynomial.split(\" \")\n",
    "        aux_list = []\n",
    "        for i in range(len(self.polynomial)):\n",
    "            aux = self.polynomial[i].split(\"*\")\n",
    "            aux_list.append(aux)\n",
    "\n",
    "        return aux_list\n",
    "    \n",
    "    # Mide la cantidad de términos separados del monomio\n",
    "    def monomials_size(self,split_polynomial):\n",
    "        aux_list = []\n",
    "        for i in range(len(split_polynomial)):\n",
    "            aux = len(split_polynomial[i])     \n",
    "            aux_list.append(aux)\n",
    "\n",
    "        return aux_list\n",
    "    \n",
    "    # Reorganiza el polinomio partido en términos para que tenga el formato necesario:\n",
    "    def reorganize(self,split_polynomial,polynomial_size):\n",
    "        for  terms,size in zip(split_polynomial,polynomial_size):\n",
    "            if size == 3:\n",
    "                aux = terms[0][0]\n",
    "                if aux == '-':\n",
    "                    terms.insert(0,-1)\n",
    "                else :\n",
    "                    terms.insert(0,1)\n",
    "            if size == 1:\n",
    "                aux = terms[0][0]\n",
    "                if len(terms[0]) == 1:\n",
    "                    if terms[0] == \"x\":\n",
    "                        terms.insert(0,1)\n",
    "                else:\n",
    "                    is_x = terms[0][1].isalpha()\n",
    "                    if is_x == True:\n",
    "                        if aux == '+':\n",
    "                            terms.insert(0,1)\n",
    "                        else :\n",
    "                            terms.insert(0,-1)\n",
    "                            \n",
    "    # Extra los el coefiente y el grado de cada monomio en una matriz\n",
    "    # lista1 = coeficientes\n",
    "    # lista2 = grado\n",
    "    def extractor_coeff_grades(self):\n",
    "        split_polynomial = self.split_terms()\n",
    "        polynomial_size = self.monomials_size(split_polynomial)\n",
    "        self.reorganize(split_polynomial,polynomial_size)\n",
    "        polynomial_size = self.monomials_size(split_polynomial)\n",
    "        list_aux = [[],[]]\n",
    "        for terms,size in zip(split_polynomial,polynomial_size):\n",
    "            if size == 4:\n",
    "                aux1 = terms[0]\n",
    "                aux2 = terms[3]\n",
    "                list_aux[0].append(int(aux1))\n",
    "                list_aux[1].append(int(aux2))\n",
    "            if size == 2:\n",
    "                aux1 = terms[0]\n",
    "                list_aux[0].append(int(aux1))\n",
    "                list_aux[1].append(1)\n",
    "            if size == 1:\n",
    "                aux1 = terms[0]\n",
    "                list_aux[0].append(int(aux1))\n",
    "                list_aux[1].append(0)\n",
    "\n",
    "        return list_aux\n"
   ]
  },
  {
   "cell_type": "markdown",
   "metadata": {},
   "source": [
    "## Proceso de derivar y escribir el resultado en formato de ecuación"
   ]
  },
  {
   "cell_type": "code",
   "execution_count": 2,
   "metadata": {},
   "outputs": [],
   "source": [
    "class Derive_polynomial(Preprocessing_operations):\n",
    "    def __init__(self,polynomial):\n",
    "        super().__init__(polynomial)\n",
    "        self.polynomial = polynomial\n",
    "\n",
    "    def derive(self):\n",
    "        coeffs,grades = self.extractor_coeff_grades()\n",
    "        list_aux = [[],[],[]]\n",
    "        for coeff,grade in zip(coeffs,grades):\n",
    "            aux1 = coeff*grade\n",
    "            aux2 = grade-1\n",
    "            list_aux[0].append(aux1)\n",
    "            list_aux[1].append(aux2)\n",
    "        menor_cero = lambda x:x<0\n",
    "        list_aux[2] =[menor_cero(x) for x in coeffs]\n",
    "        return list_aux\n",
    "    \n",
    "    def Derivative(self):\n",
    "        coeffs,grades,signs = self.derive()\n",
    "        index_size = len(coeffs)\n",
    "        derivative = []\n",
    "        if coeffs[index_size - 1] == 0 :\n",
    "            index_size = index_size - 1\n",
    "        for coeff,grade,sign,i in zip(coeffs,grades,signs,range(index_size)):\n",
    "            aux = str(coeff)     \n",
    "            if (sign == False and i == 0):\n",
    "                if grade > 0 :\n",
    "                    if grade == 1 :\n",
    "                        aux = aux + \"*x\"\n",
    "                    else:\n",
    "                        aux = aux + \"*x**\" + str(grade)\n",
    "                    derivative.append(aux)\n",
    "                    continue\n",
    "                else:\n",
    "                    aux = str(coeff)\n",
    "                    derivative.append(aux)\n",
    "                    continue\n",
    "            if sign == False :\n",
    "                aux = \" +\" + str(coeff)\n",
    "            else:\n",
    "                aux = \" \" + str(coeff)\n",
    "            if grade > 0 :\n",
    "                if grade == 1 :\n",
    "                    aux = aux + \"*x\"\n",
    "                else:\n",
    "                    aux = aux + \"*x**\" + str(grade)\n",
    "            derivative.append(aux)\n",
    "        result = \"\"\n",
    "        for monomial in derivative:\n",
    "            result = result + monomial\n",
    "\n",
    "        return result\n",
    "    \n",
    "    def Write_derivative(self):\n",
    "        result = self.Derivative()\n",
    "        print(f'Derivada: {result}')\n"
   ]
  },
  {
   "cell_type": "markdown",
   "metadata": {},
   "source": [
    "## Prueba"
   ]
  },
  {
   "cell_type": "markdown",
   "metadata": {},
   "source": [
    "Ejemplos:\n",
    "> Polinomio: 4*x**6 -5*x**4 +x**3 -x -4\n",
    ">\n",
    "> Resultado: 24*x**5 -20*x**3 +3*x**2 -1"
   ]
  },
  {
   "cell_type": "code",
   "execution_count": 5,
   "metadata": {},
   "outputs": [
    {
     "name": "stdout",
     "output_type": "stream",
     "text": [
      "Polinomio: 7*x**6 -5*x**3 +x**3 -x -4\n",
      "Derivada: 42*x**5 -15*x**2 +3*x**2 -1\n"
     ]
    }
   ],
   "source": [
    "polinomio = input(\"Polinomio:\")\n",
    "derivada1 = Derive_polynomial(polinomio)\n",
    "print(f'Polinomio: {polinomio}')\n",
    "derivada1.Write_derivative()"
   ]
  }
 ],
 "metadata": {
  "kernelspec": {
   "display_name": "base",
   "language": "python",
   "name": "python3"
  },
  "language_info": {
   "codemirror_mode": {
    "name": "ipython",
    "version": 3
   },
   "file_extension": ".py",
   "mimetype": "text/x-python",
   "name": "python",
   "nbconvert_exporter": "python",
   "pygments_lexer": "ipython3",
   "version": "3.12.2"
  }
 },
 "nbformat": 4,
 "nbformat_minor": 2
}
